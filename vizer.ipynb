{
 "cells": [
  {
   "cell_type": "code",
   "execution_count": 1,
   "metadata": {
    "collapsed": true
   },
   "outputs": [],
   "source": [
    "#!/usr/bin/python3\n",
    "\n",
    "import os # for opening and closing files\n",
    "from pymongo import MongoClient # using mongoDB\n",
    "client = MongoClient() # this gets us a client to the mongodatabase\n",
    "                       # make sure to start mongod somewhere, aim at\n",
    "                       # some custom folder\n",
    "import numpy as np\n",
    "import matplotlib.pyplot as plt\n",
    "\n",
    "nameOfDatabase = \"test\""
   ]
  },
  {
   "cell_type": "code",
   "execution_count": 2,
   "metadata": {},
   "outputs": [
    {
     "name": "stdout",
     "output_type": "stream",
     "text": [
      "gonna try to plot diagnostic by label\n"
     ]
    },
    {
     "ename": "NameError",
     "evalue": "name 'nameOfDatabase' is not defined",
     "output_type": "error",
     "traceback": [
      "\u001b[0;31m--------------------------------------------------------------------------\u001b[0m",
      "\u001b[0;31mNameError\u001b[0m                                Traceback (most recent call last)",
      "\u001b[0;32m<ipython-input-2-260af776de36>\u001b[0m in \u001b[0;36m<module>\u001b[0;34m()\u001b[0m\n\u001b[1;32m      1\u001b[0m \u001b[0mprint\u001b[0m\u001b[0;34m(\u001b[0m\u001b[0;34m\"gonna try to plot diagnostic by label\"\u001b[0m\u001b[0;34m)\u001b[0m\u001b[0;34m\u001b[0m\u001b[0m\n\u001b[1;32m      2\u001b[0m \u001b[0mallLabels\u001b[0m \u001b[0;34m=\u001b[0m \u001b[0mset\u001b[0m\u001b[0;34m(\u001b[0m\u001b[0;34m)\u001b[0m\u001b[0;34m\u001b[0m\u001b[0m\n\u001b[0;32m----> 3\u001b[0;31m \u001b[0;32mfor\u001b[0m \u001b[0meachNode\u001b[0m \u001b[0;32min\u001b[0m \u001b[0mclient\u001b[0m\u001b[0;34m[\u001b[0m\u001b[0mnameOfDatabase\u001b[0m\u001b[0;34m]\u001b[0m\u001b[0;34m.\u001b[0m\u001b[0mnodes\u001b[0m\u001b[0;34m.\u001b[0m\u001b[0mfind\u001b[0m\u001b[0;34m(\u001b[0m\u001b[0;34m)\u001b[0m\u001b[0;34m:\u001b[0m\u001b[0;34m\u001b[0m\u001b[0m\n\u001b[0m\u001b[1;32m      4\u001b[0m   \u001b[0mallLabels\u001b[0m\u001b[0;34m.\u001b[0m\u001b[0madd\u001b[0m\u001b[0;34m(\u001b[0m\u001b[0meachNode\u001b[0m\u001b[0;34m[\u001b[0m\u001b[0;34m'label'\u001b[0m\u001b[0;34m]\u001b[0m\u001b[0;34m)\u001b[0m\u001b[0;34m\u001b[0m\u001b[0m\n\u001b[1;32m      5\u001b[0m \u001b[0;31m#THIS IS SET TO DIAGNOSE\u001b[0m\u001b[0;34m\u001b[0m\u001b[0;34m\u001b[0m\u001b[0m\n",
      "\u001b[0;31mNameError\u001b[0m: name 'nameOfDatabase' is not defined"
     ]
    }
   ],
   "source": [
    "print(\"gonna try to plot diagnostic by label\")\n",
    "allLabels = set()\n",
    "for eachNode in client[nameOfDatabase].nodes.find():\n",
    "  allLabels.add(eachNode['label'])\n",
    "#THIS IS SET TO DIAGNOSE\n",
    "for eachLabel in [15]:#range(16,16):#allLabels:\n",
    "  for eachNode in client[nameOfDatabase].nodes.find({'label':eachLabel}):\n",
    "    exs, why, nextNodez = [],[],[]\n",
    "    try:\n",
    "      exs.append(float(eachNode['lon']))\n",
    "      why.append(float(eachNode['lat']))\n",
    "#THIS IS BUSTED, I SHOULD LEARN NUMPY SO I CAN PLOT THESE\n",
    "#LINE SEGMENTS BY COLOR TO DIAGNOSE WHT THE COLOR LABEL THING\n",
    "#AIN'T WORKING\n",
    "      for eachSubNodeID in eachNode['nextNode']:\n",
    "        eachSubNodeID.find_one({'id',eachSubNodeID})\n",
    "        nextNodez.append((eachSubNodeID['lon'],\n",
    "          eachSubNodeID['lat']))\n",
    "    except:\n",
    "      None\n",
    "    print(nextNodez)\n",
    "  plt.plot(exs,why,marker='o')\n",
    "plt.show()\n",
    "\n",
    "\n"
   ]
  },
  {
   "cell_type": "code",
   "execution_count": null,
   "metadata": {
    "collapsed": true
   },
   "outputs": [],
   "source": []
  }
 ],
 "metadata": {
  "kernelspec": {
   "display_name": "Python 3",
   "language": "python",
   "name": "python3"
  },
  "language_info": {
   "codemirror_mode": {
    "name": "ipython",
    "version": 3
   },
   "file_extension": ".py",
   "mimetype": "text/x-python",
   "name": "python",
   "nbconvert_exporter": "python",
   "pygments_lexer": "ipython3",
   "version": "3.6.0"
  }
 },
 "nbformat": 4,
 "nbformat_minor": 2
}
